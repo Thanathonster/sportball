{
 "cells": [
  {
   "cell_type": "markdown",
   "metadata": {
    "id": "YT2eEX_PT2S7"
   },
   "source": [
    "# ⚠️ Warning!\n",
    "\n",
    "*   **ห้าม run all**\n",
    "*   **ห้าม save ไฟล์ .npy (ใน code cell สุดท้าย) ทับไฟล์เดิมในโฟร์เดอร์ classfication ball ที่คอปแชร์ไว้**\n",
    "\n"
   ]
  },
  {
   "cell_type": "markdown",
   "metadata": {
    "id": "X8RwAFO-phFS"
   },
   "source": [
    "# Import Data from Kaggle\n",
    "ดาวน์โหลดข้อมูลจาก Kaggle\n",
    "\n",
    "ต้องมีไฟล์ kaggle.json (Kaggle API Token) ใน session\n",
    "storage เพื่อรัน section นี้"
   ]
  },
  {
   "cell_type": "code",
   "execution_count": null,
   "metadata": {
    "colab": {
     "base_uri": "https://localhost:8080/"
    },
    "id": "OuR5zvD3pXCt",
    "outputId": "8cf08e65-bf57-4c18-e221-3b542480c9e9"
   },
   "outputs": [
    {
     "name": "stdout",
     "output_type": "stream",
     "text": [
      "Looking in indexes: https://pypi.org/simple, https://pypi.ngc.nvidia.com\n",
      "Collecting kaggle\n",
      "  Downloading kaggle-1.6.17.tar.gz (82 kB)\n",
      "  Installing build dependencies: started\n",
      "  Installing build dependencies: finished with status 'done'\n",
      "  Getting requirements to build wheel: started\n",
      "  Getting requirements to build wheel: finished with status 'done'\n",
      "  Preparing metadata (pyproject.toml): started\n",
      "  Preparing metadata (pyproject.toml): finished with status 'done'\n",
      "Requirement already satisfied: six>=1.10 in c:\\users\\admin\\miniconda3\\envs\\analysisenv\\lib\\site-packages (from kaggle) (1.16.0)\n",
      "Requirement already satisfied: certifi>=2023.7.22 in c:\\users\\admin\\miniconda3\\envs\\analysisenv\\lib\\site-packages (from kaggle) (2024.8.30)\n",
      "Requirement already satisfied: python-dateutil in c:\\users\\admin\\miniconda3\\envs\\analysisenv\\lib\\site-packages (from kaggle) (2.9.0)\n",
      "Requirement already satisfied: requests in c:\\users\\admin\\miniconda3\\envs\\analysisenv\\lib\\site-packages (from kaggle) (2.32.3)\n",
      "Requirement already satisfied: tqdm in c:\\users\\admin\\miniconda3\\envs\\analysisenv\\lib\\site-packages (from kaggle) (4.67.0)\n",
      "Collecting python-slugify (from kaggle)\n",
      "  Downloading python_slugify-8.0.4-py2.py3-none-any.whl.metadata (8.5 kB)\n",
      "Requirement already satisfied: urllib3 in c:\\users\\admin\\miniconda3\\envs\\analysisenv\\lib\\site-packages (from kaggle) (2.2.3)\n",
      "Collecting bleach (from kaggle)\n",
      "  Downloading bleach-6.2.0-py3-none-any.whl.metadata (30 kB)\n",
      "Collecting webencodings (from bleach->kaggle)\n",
      "  Downloading webencodings-0.5.1-py2.py3-none-any.whl.metadata (2.1 kB)\n",
      "Collecting text-unidecode>=1.3 (from python-slugify->kaggle)\n",
      "  Downloading text_unidecode-1.3-py2.py3-none-any.whl.metadata (2.4 kB)\n",
      "Requirement already satisfied: charset-normalizer<4,>=2 in c:\\users\\admin\\miniconda3\\envs\\analysisenv\\lib\\site-packages (from requests->kaggle) (3.4.0)\n",
      "Requirement already satisfied: idna<4,>=2.5 in c:\\users\\admin\\miniconda3\\envs\\analysisenv\\lib\\site-packages (from requests->kaggle) (3.10)\n",
      "Requirement already satisfied: colorama in c:\\users\\admin\\miniconda3\\envs\\analysisenv\\lib\\site-packages (from tqdm->kaggle) (0.4.6)\n",
      "Downloading bleach-6.2.0-py3-none-any.whl (163 kB)\n",
      "Downloading python_slugify-8.0.4-py2.py3-none-any.whl (10 kB)\n",
      "Downloading text_unidecode-1.3-py2.py3-none-any.whl (78 kB)\n",
      "Downloading webencodings-0.5.1-py2.py3-none-any.whl (11 kB)\n",
      "Building wheels for collected packages: kaggle\n",
      "  Building wheel for kaggle (pyproject.toml): started\n",
      "  Building wheel for kaggle (pyproject.toml): finished with status 'done'\n",
      "  Created wheel for kaggle: filename=kaggle-1.6.17-py3-none-any.whl size=105797 sha256=c46006700a2a34d546fec7faa904e219dac804d3a4beb785b36e115673bf6673\n",
      "  Stored in directory: C:\\Users\\Admin\\AppData\\Local\\Temp\\pip-ephem-wheel-cache-egqvgcel\\wheels\\93\\6e\\87\\6d3385c22c1284be8161dfa643c4a58009b8ee4f0ea9ca54ff\n",
      "Successfully built kaggle\n",
      "Installing collected packages: webencodings, text-unidecode, python-slugify, bleach, kaggle\n",
      "Successfully installed bleach-6.2.0 kaggle-1.6.17 python-slugify-8.0.4 text-unidecode-1.3 webencodings-0.5.1\n"
     ]
    }
   ],
   "source": [
    "! pip install kaggle\n",
    "! pip install opencv-python"
   ]
  },
  {
   "cell_type": "code",
   "execution_count": 38,
   "metadata": {},
   "outputs": [
    {
     "name": "stderr",
     "output_type": "stream",
     "text": [
      "c:\\Users\\Admin\\miniconda3\\envs\\analysisenv\\Lib\\site-packages\\tqdm\\auto.py:21: TqdmWarning: IProgress not found. Please update jupyter and ipywidgets. See https://ipywidgets.readthedocs.io/en/stable/user_install.html\n",
      "  from .autonotebook import tqdm as notebook_tqdm\n"
     ]
    },
    {
     "name": "stdout",
     "output_type": "stream",
     "text": [
      "Downloading from https://www.kaggle.com/api/v1/datasets/download/samuelcortinhas/sports-balls-multiclass-image-classification?dataset_version_number=2...\n"
     ]
    },
    {
     "name": "stderr",
     "output_type": "stream",
     "text": [
      "100%|██████████| 401M/401M [00:21<00:00, 19.7MB/s] "
     ]
    },
    {
     "name": "stdout",
     "output_type": "stream",
     "text": [
      "Extracting files...\n"
     ]
    },
    {
     "name": "stderr",
     "output_type": "stream",
     "text": [
      "\n"
     ]
    },
    {
     "name": "stdout",
     "output_type": "stream",
     "text": [
      "Path to dataset files: C:\\Users\\Admin\\.cache\\kagglehub\\datasets\\samuelcortinhas\\sports-balls-multiclass-image-classification\\versions\\2\n"
     ]
    }
   ],
   "source": [
    "import kagglehub\n",
    "\n",
    "# Download latest version\n",
    "path = kagglehub.dataset_download(\"samuelcortinhas/sports-balls-multiclass-image-classification\")\n",
    "\n",
    "print(\"Path to dataset files:\", path)"
   ]
  },
  {
   "cell_type": "markdown",
   "metadata": {
    "id": "tMleoKBgqI1g"
   },
   "source": [
    "# Prepare Data"
   ]
  },
  {
   "cell_type": "code",
   "execution_count": 31,
   "metadata": {
    "id": "3WBeMF4dqIdV"
   },
   "outputs": [],
   "source": [
    "import pandas as pd\n",
    "import numpy as np\n",
    "import cv2\n",
    "\n",
    "import os\n",
    "\n",
    "from sklearn.model_selection import StratifiedShuffleSplit"
   ]
  },
  {
   "cell_type": "code",
   "execution_count": 6,
   "metadata": {},
   "outputs": [
    {
     "data": {
      "text/plain": [
       "'c:\\\\Users\\\\Admin\\\\Desktop\\\\Sportball'"
      ]
     },
     "execution_count": 6,
     "metadata": {},
     "output_type": "execute_result"
    }
   ],
   "source": [
    "pwd"
   ]
  },
  {
   "cell_type": "code",
   "execution_count": 69,
   "metadata": {},
   "outputs": [],
   "source": [
    "label = []\n",
    "dataset = []\n",
    "filepaths = []\n",
    "for ball in os.listdir(f\"C:\\\\Users\\\\Admin\\\\Desktop\\\\Sportball\\\\dataset\\\\train\"):\n",
    "    for filepath in os.listdir(f\"dataset/train/{ball}\"):\n",
    "        label.append(ball)\n",
    "        dataset.append(\"train\")\n",
    "        filepaths.append(f\"dataset/train/{ball}/{filepath}\")\n",
    "\n",
    "for ball in os.listdir(f\"C:\\\\Users\\\\Admin\\\\Desktop\\\\Sportball\\\\dataset\\\\test\"):\n",
    "    for filepath in os.listdir(f\"dataset/test/{ball}\"):\n",
    "        label.append(ball)\n",
    "        dataset.append(\"test\")\n",
    "        filepaths.append(f\"dataset/test/{ball}/{filepath}\")\n",
    "\n",
    "pd.DataFrame({\"filepath\": filepaths, \"dataset\": dataset, \"labels\": label}).to_csv(\"ball.csv\", index=False)"
   ]
  },
  {
   "cell_type": "code",
   "execution_count": 70,
   "metadata": {
    "colab": {
     "base_uri": "https://localhost:8080/",
     "height": 423
    },
    "id": "GS6Fed0DqB5H",
    "outputId": "963b1048-9a58-4038-f5c1-a55ac2c71b2c"
   },
   "outputs": [
    {
     "data": {
      "text/html": [
       "<div>\n",
       "<style scoped>\n",
       "    .dataframe tbody tr th:only-of-type {\n",
       "        vertical-align: middle;\n",
       "    }\n",
       "\n",
       "    .dataframe tbody tr th {\n",
       "        vertical-align: top;\n",
       "    }\n",
       "\n",
       "    .dataframe thead th {\n",
       "        text-align: right;\n",
       "    }\n",
       "</style>\n",
       "<table border=\"1\" class=\"dataframe\">\n",
       "  <thead>\n",
       "    <tr style=\"text-align: right;\">\n",
       "      <th></th>\n",
       "      <th>filepath</th>\n",
       "      <th>dataset</th>\n",
       "      <th>labels</th>\n",
       "    </tr>\n",
       "  </thead>\n",
       "  <tbody>\n",
       "    <tr>\n",
       "      <th>0</th>\n",
       "      <td>dataset/train/american_football/american_footb...</td>\n",
       "      <td>train</td>\n",
       "      <td>american_football</td>\n",
       "    </tr>\n",
       "    <tr>\n",
       "      <th>1</th>\n",
       "      <td>dataset/train/american_football/american_footb...</td>\n",
       "      <td>train</td>\n",
       "      <td>american_football</td>\n",
       "    </tr>\n",
       "    <tr>\n",
       "      <th>2</th>\n",
       "      <td>dataset/train/american_football/american_footb...</td>\n",
       "      <td>train</td>\n",
       "      <td>american_football</td>\n",
       "    </tr>\n",
       "    <tr>\n",
       "      <th>3</th>\n",
       "      <td>dataset/train/american_football/american_footb...</td>\n",
       "      <td>train</td>\n",
       "      <td>american_football</td>\n",
       "    </tr>\n",
       "    <tr>\n",
       "      <th>4</th>\n",
       "      <td>dataset/train/american_football/american_footb...</td>\n",
       "      <td>train</td>\n",
       "      <td>american_football</td>\n",
       "    </tr>\n",
       "    <tr>\n",
       "      <th>...</th>\n",
       "      <td>...</td>\n",
       "      <td>...</td>\n",
       "      <td>...</td>\n",
       "    </tr>\n",
       "    <tr>\n",
       "      <th>9164</th>\n",
       "      <td>dataset/test/volleyball/volleyball_867.jpg</td>\n",
       "      <td>test</td>\n",
       "      <td>volleyball</td>\n",
       "    </tr>\n",
       "    <tr>\n",
       "      <th>9165</th>\n",
       "      <td>dataset/test/volleyball/volleyball_868.jpg</td>\n",
       "      <td>test</td>\n",
       "      <td>volleyball</td>\n",
       "    </tr>\n",
       "    <tr>\n",
       "      <th>9166</th>\n",
       "      <td>dataset/test/volleyball/volleyball_882.jpg</td>\n",
       "      <td>test</td>\n",
       "      <td>volleyball</td>\n",
       "    </tr>\n",
       "    <tr>\n",
       "      <th>9167</th>\n",
       "      <td>dataset/test/volleyball/volleyball_9.jpg</td>\n",
       "      <td>test</td>\n",
       "      <td>volleyball</td>\n",
       "    </tr>\n",
       "    <tr>\n",
       "      <th>9168</th>\n",
       "      <td>dataset/test/volleyball/volleyball_94.jpg</td>\n",
       "      <td>test</td>\n",
       "      <td>volleyball</td>\n",
       "    </tr>\n",
       "  </tbody>\n",
       "</table>\n",
       "<p>9169 rows × 3 columns</p>\n",
       "</div>"
      ],
      "text/plain": [
       "                                               filepath dataset  \\\n",
       "0     dataset/train/american_football/american_footb...   train   \n",
       "1     dataset/train/american_football/american_footb...   train   \n",
       "2     dataset/train/american_football/american_footb...   train   \n",
       "3     dataset/train/american_football/american_footb...   train   \n",
       "4     dataset/train/american_football/american_footb...   train   \n",
       "...                                                 ...     ...   \n",
       "9164         dataset/test/volleyball/volleyball_867.jpg    test   \n",
       "9165         dataset/test/volleyball/volleyball_868.jpg    test   \n",
       "9166         dataset/test/volleyball/volleyball_882.jpg    test   \n",
       "9167           dataset/test/volleyball/volleyball_9.jpg    test   \n",
       "9168          dataset/test/volleyball/volleyball_94.jpg    test   \n",
       "\n",
       "                 labels  \n",
       "0     american_football  \n",
       "1     american_football  \n",
       "2     american_football  \n",
       "3     american_football  \n",
       "4     american_football  \n",
       "...                 ...  \n",
       "9164         volleyball  \n",
       "9165         volleyball  \n",
       "9166         volleyball  \n",
       "9167         volleyball  \n",
       "9168         volleyball  \n",
       "\n",
       "[9169 rows x 3 columns]"
      ]
     },
     "execution_count": 70,
     "metadata": {},
     "output_type": "execute_result"
    }
   ],
   "source": [
    "# อ่านไฟล์ metadata\n",
    "balls = pd.read_csv('ball.csv')\n",
    "balls"
   ]
  },
  {
   "cell_type": "code",
   "execution_count": 94,
   "metadata": {
    "id": "IyQ8dsVuqw-k"
   },
   "outputs": [],
   "source": [
    "# เลือกเฉพาะ 11 classes ที่เป็น sport balls\n",
    "selected_labels = ['baseball','basketball','beachballs','billiard_ball',\n",
    "                   'bowling_ball','cricket_ball','football','golf_ball',\n",
    "                   'stable_tennis_ball','tennis_ball', 'volleyball',\n",
    "]\n",
    "sport_balls = balls[(balls['labels'].isin(selected_labels))]"
   ]
  },
  {
   "cell_type": "code",
   "execution_count": 95,
   "metadata": {
    "id": "eYJFgAFbqz6_"
   },
   "outputs": [],
   "source": [
    "# สร้าง df ที่เป็น metadata ของ train, validate, test\n",
    "sport_balls_train = sport_balls[(sport_balls['dataset']) == 'train'].reset_index(drop=True)\n",
    "sport_balls_validate = sport_balls[(sport_balls['dataset']) == 'valid'].reset_index(drop=True)\n",
    "sport_balls_test = sport_balls[(sport_balls['dataset']) == 'test'].reset_index(drop=True)"
   ]
  },
  {
   "cell_type": "code",
   "execution_count": 96,
   "metadata": {
    "id": "Rcgwcm0Prs_V"
   },
   "outputs": [],
   "source": [
    "# อ่านข้อมูลรูปภาพชุด train แล้วเก็บเป็น array\n",
    "train_X = []\n",
    "for i in range(sport_balls_train.shape[0]):\n",
    "  img = cv2.imread(sport_balls_train.iloc[i,0])\n",
    "  img = cv2.resize(img, (224,224))\n",
    "  train_X.append(img)\n",
    "train_X = np.array(train_X)"
   ]
  },
  {
   "cell_type": "code",
   "execution_count": 97,
   "metadata": {
    "id": "sH4WVPhAr5Fb"
   },
   "outputs": [],
   "source": [
    "# อ่านข้อมูลรูปภาพชุด test แล้วเก็บเป็น array\n",
    "test_X = []\n",
    "for i in range(sport_balls_test.shape[0]):\n",
    "  img = cv2.imread(sport_balls_test.iloc[i,0])\n",
    "  img = cv2.resize(img, (224,224))\n",
    "  test_X.append(img)\n",
    "test_X = np.array(test_X)"
   ]
  },
  {
   "cell_type": "code",
   "execution_count": 98,
   "metadata": {
    "colab": {
     "base_uri": "https://localhost:8080/"
    },
    "id": "AYxn0JZMsQ5x",
    "outputId": "d6d6fec3-28bc-435f-af72-3b2f34bfee58"
   },
   "outputs": [
    {
     "data": {
      "text/plain": [
       "(1126, 224, 224, 3)"
      ]
     },
     "execution_count": 98,
     "metadata": {},
     "output_type": "execute_result"
    }
   ],
   "source": [
    "test_X.shape"
   ]
  },
  {
   "cell_type": "code",
   "execution_count": 100,
   "metadata": {
    "id": "hK1TN6GasTOv"
   },
   "outputs": [],
   "source": [
    "# เก็บ labels ของรูปภาพของ train, validate, test เป็น array\n",
    "train_Y = sport_balls_train['labels'].to_numpy().astype('str')\n",
    "test_Y = sport_balls_test['labels'].to_numpy().astype('str')"
   ]
  },
  {
   "cell_type": "code",
   "execution_count": 101,
   "metadata": {
    "id": "gOLp0cR3sj-8"
   },
   "outputs": [],
   "source": [
    "# บันทึกข้อมูลเป็นไฟล์ .npy สำหรับใช้งานในขั้นตอนต่อ ๆ ไป\n",
    "np.save('train_X.npy', train_X)\n",
    "np.save('train_Y.npy', train_Y)\n",
    "np.save('test_X.npy', test_X)\n",
    "np.save('test_Y.npy', test_Y)"
   ]
  },
  {
   "cell_type": "markdown",
   "metadata": {
    "id": "TDCcMfFYXkmE"
   },
   "source": [
    "# Explore Data"
   ]
  },
  {
   "cell_type": "code",
   "execution_count": 102,
   "metadata": {
    "id": "0nwFKzxAXju3"
   },
   "outputs": [],
   "source": [
    "import seaborn as sns\n",
    "import matplotlib.pylab as plt"
   ]
  },
  {
   "cell_type": "code",
   "execution_count": 103,
   "metadata": {
    "colab": {
     "base_uri": "https://localhost:8080/",
     "height": 363
    },
    "id": "L8QfSh7dZfkq",
    "outputId": "e7359c7c-a2a9-4810-c2f6-07b1428378df"
   },
   "outputs": [
    {
     "data": {
      "text/plain": [
       "Text(0.5, 1.0, 'Training Data')"
      ]
     },
     "execution_count": 103,
     "metadata": {},
     "output_type": "execute_result"
    },
    {
     "data": {
      "image/png": "[encoded data removed]",
      "text/plain": [
       "<Figure size 640x480 with 1 Axes>"
      ]
     },
     "metadata": {},
     "output_type": "display_data"
    }
   ],
   "source": [
    "g = sns.countplot(x=train_Y)\n",
    "plt.xticks(rotation=90)\n",
    "plt.title('Training Data')"
   ]
  },
  {
   "cell_type": "code",
   "execution_count": 105,
   "metadata": {
    "colab": {
     "base_uri": "https://localhost:8080/",
     "height": 363
    },
    "id": "LXSJjN-mZpDm",
    "outputId": "24a6174d-57f3-46e7-947d-d27d1d6a99d5"
   },
   "outputs": [
    {
     "data": {
      "text/plain": [
       "Text(0.5, 1.0, 'Testing Data')"
      ]
     },
     "execution_count": 105,
     "metadata": {},
     "output_type": "execute_result"
    },
    {
     "data": {
      "image/png": "[encoded data removed]",
      "text/plain": [
       "<Figure size 640x480 with 1 Axes>"
      ]
     },
     "metadata": {},
     "output_type": "display_data"
    }
   ],
   "source": [
    "g = sns.countplot(x=test_Y)\n",
    "plt.xticks(rotation=90)\n",
    "plt.title('Testing Data')"
   ]
  }
 ],
 "metadata": {
  "colab": {
   "provenance": []
  },
  "kernelspec": {
   "display_name": "analysisenv",
   "language": "python",
   "name": "python3"
  },
  "language_info": {
   "codemirror_mode": {
    "name": "ipython",
    "version": 3
   },
   "file_extension": ".py",
   "mimetype": "text/x-python",
   "name": "python",
   "nbconvert_exporter": "python",
   "pygments_lexer": "ipython3",
   "version": "3.13.0"
  }
 },
 "nbformat": 4,
 "nbformat_minor": 0
}
